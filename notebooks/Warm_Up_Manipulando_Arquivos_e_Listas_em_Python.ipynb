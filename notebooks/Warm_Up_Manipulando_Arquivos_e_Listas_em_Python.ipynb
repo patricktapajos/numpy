{
  "nbformat": 4,
  "nbformat_minor": 0,
  "metadata": {
    "kernelspec": {
      "display_name": "Python 3",
      "language": "python",
      "name": "python3"
    },
    "language_info": {
      "codemirror_mode": {
        "name": "ipython",
        "version": 3
      },
      "file_extension": ".py",
      "mimetype": "text/x-python",
      "name": "python",
      "nbconvert_exporter": "python",
      "pygments_lexer": "ipython3",
      "version": "3.8.3"
    },
    "colab": {
      "name": "Warm Up - Manipulando Arquivos e Listas em Python.ipynb",
      "provenance": [],
      "collapsed_sections": [],
      "include_colab_link": true
    }
  },
  "cells": [
    {
      "cell_type": "markdown",
      "metadata": {
        "id": "view-in-github",
        "colab_type": "text"
      },
      "source": [
        "<a href=\"https://colab.research.google.com/github/patricktapajos/numpy/blob/main/notebooks/Warm_Up_Manipulando_Arquivos_e_Listas_em_Python.ipynb\" target=\"_parent\"><img src=\"https://colab.research.google.com/assets/colab-badge.svg\" alt=\"Open In Colab\"/></a>"
      ]
    },
    {
      "cell_type": "markdown",
      "metadata": {
        "id": "7-4b1cz0SmfA"
      },
      "source": [
        "# Warm Up - Manipulando Arquivos e Listas com Python\n",
        "\n",
        "**Disciplina**: Programação para Ciência dos Dados  \n",
        "**Docentes**: Elloá B. Guedes e Tiago E. de Melo  \n",
        "**Contato:** ebgcosta@uea.edu.br, tmelo@uea.edu.br  \n",
        "**Github:** http://github.com/elloa/numpy\n",
        "\n",
        "## Apresentação\n",
        "\n",
        "Para consolidar o aprendizado da manipulação de arquivos e listas com Python, vamos realizar a atividade prática a seguir, a qual consiste em descobrir informações a respeito dos últimos sorteios da Mega-Sena. Você deve abrir o arquivo que encontra-se no diretorio '../data' intitulado _megasena.txt_. Este arquivo texto contém todos os sorteios da Mega-Sena, em que cada linha contém as seis dezenas correspondentes a um sorteio, separadas por um espaço.\n",
        "\n",
        "## Referências\n",
        "\n",
        "1. Fonte de dados: https://asloterias.com.br/download-todos-resultados-mega-sena"
      ]
    },
    {
      "cell_type": "code",
      "metadata": {
        "id": "ohUFMh9sSmfC"
      },
      "source": [
        "## Reservado para importação de bibliotecas, se for o caso\n",
        "import numpy as np\n",
        "import math\n",
        "import matplotlib.pyplot as plt\n",
        "from functools import reduce"
      ],
      "execution_count": 101,
      "outputs": []
    },
    {
      "cell_type": "markdown",
      "metadata": {
        "id": "4-LwxK-QSmfJ"
      },
      "source": [
        "### Passo 1 - Abrir o arquivo e organizar as informações em uma lista\n",
        "\n",
        "1. Abra o arquivo indicado no enunciado do exercício\n",
        "2. Itere pelas linhas do arquivo e:  \n",
        "    2.1 Obtenha as dezenas sob a forma de inteiros  \n",
        "    2.2 Armazene cada sorteio em uma lista  \n",
        "3. Crie uma lista que contém todos os sorteios"
      ]
    },
    {
      "cell_type": "code",
      "metadata": {
        "id": "Kphf7CNwSmfK",
        "outputId": "df77d8ce-0fc4-4d3f-8973-38ba6aa29365",
        "colab": {
          "base_uri": "https://localhost:8080/",
          "height": 134
        }
      },
      "source": [
        "# 1.Abra o arquivo indicado no enunciado do exercício\n",
        "\n",
        "lottery = np.loadtxt('/content/megasena.txt')\n",
        "print(lottery)"
      ],
      "execution_count": 102,
      "outputs": [
        {
          "output_type": "stream",
          "text": [
            "[[12. 54. 57. 21. 29. 56.]\n",
            " [17. 50. 48. 20.  3.  7.]\n",
            " [44. 43. 25. 18. 27. 22.]\n",
            " ...\n",
            " [36. 30. 10. 11. 29. 47.]\n",
            " [ 9. 39. 37. 49. 43. 41.]\n",
            " [41.  5.  4. 52. 30. 33.]]\n"
          ],
          "name": "stdout"
        }
      ]
    },
    {
      "cell_type": "code",
      "metadata": {
        "id": "TjSnvcM_SmfP",
        "outputId": "e204494c-f4ee-406b-d81e-c8ea9aebdfa9",
        "colab": {
          "base_uri": "https://localhost:8080/",
          "height": 101
        }
      },
      "source": [
        "#Itere pelas linhas do arquivo e:\n",
        "# 2.1 Obtenha as dezenas sob a forma de inteiros\n",
        "lottery_as_int = lottery.astype(int)\n",
        "\n",
        "# 2.2 Armazene cada sorteio em uma lista\n",
        "lottery_list = lottery_as_int.tolist()\n",
        "lottery_list[0:5]\n"
      ],
      "execution_count": 103,
      "outputs": [
        {
          "output_type": "execute_result",
          "data": {
            "text/plain": [
              "[[12, 54, 57, 21, 29, 56],\n",
              " [17, 50, 48, 20, 3, 7],\n",
              " [44, 43, 25, 18, 27, 22],\n",
              " [18, 36, 47, 52, 35, 17],\n",
              " [37, 39, 21, 9, 54, 43]]"
            ]
          },
          "metadata": {
            "tags": []
          },
          "execution_count": 103
        }
      ]
    },
    {
      "cell_type": "markdown",
      "metadata": {
        "id": "ZvxLtoZPSmfU"
      },
      "source": [
        "### Passo 2 - Sobre os Sorteios\n",
        "\n",
        "1. Quantos sorteios foram realizados até a presente data?\n",
        "2. Quantas vezes cada dezena foi sorteada?\n",
        "  - Dica: Use um dicionário!\n",
        "3. Quantas vezes o número 51 foi sorteado?\n",
        "4. Quantas vezes números no intervalo [1,10] foram sorteados?\n",
        "5. Qual a dezena mais sorteada?  \n",
        "6. Qual a dezena menos sorteada?  "
      ]
    },
    {
      "cell_type": "code",
      "metadata": {
        "id": "zVNLFDdeSmfV",
        "outputId": "bae2ff7e-9e3d-4ec7-cc4b-3310061fcb7a",
        "colab": {
          "base_uri": "https://localhost:8080/",
          "height": 34
        }
      },
      "source": [
        "# 2.1.Quantos sorteios foram realizados até a presente data?\n",
        "print('Foram realizados %d sorteios até o momento.' % len(lottery_list))"
      ],
      "execution_count": null,
      "outputs": [
        {
          "output_type": "stream",
          "text": [
            "Foram realizados 2304 sorteios até o momento.\n"
          ],
          "name": "stdout"
        }
      ]
    },
    {
      "cell_type": "code",
      "metadata": {
        "id": "YSyMQ-ZADb8h",
        "outputId": "8f117769-f042-44bb-dc1d-738c730c77d0",
        "colab": {
          "base_uri": "https://localhost:8080/",
          "height": 54
        }
      },
      "source": [
        "# 2.2.Quantas vezes cada dezena foi sorteada?\n",
        "unique, counts = np.unique(lottery_list, return_counts=True)\n",
        "d_lottery = dict(zip(unique, counts))\n",
        "print(d_lottery)"
      ],
      "execution_count": null,
      "outputs": [
        {
          "output_type": "stream",
          "text": [
            "{1: 230, 2: 235, 3: 207, 4: 251, 5: 255, 6: 237, 7: 219, 8: 230, 9: 211, 10: 263, 11: 234, 12: 228, 13: 234, 14: 219, 15: 206, 16: 237, 17: 239, 18: 234, 19: 216, 20: 222, 21: 203, 22: 201, 23: 254, 24: 245, 25: 213, 26: 190, 27: 247, 28: 242, 29: 237, 30: 242, 31: 218, 32: 235, 33: 251, 34: 242, 35: 236, 36: 239, 37: 248, 38: 232, 39: 216, 40: 223, 41: 238, 42: 248, 43: 241, 44: 239, 45: 225, 46: 227, 47: 223, 48: 209, 49: 230, 50: 232, 51: 239, 52: 235, 53: 261, 54: 246, 55: 194, 56: 237, 57: 217, 58: 226, 59: 226, 60: 210}\n"
          ],
          "name": "stdout"
        }
      ]
    },
    {
      "cell_type": "code",
      "metadata": {
        "id": "bsMyXWhPDhzb",
        "outputId": "fb03a2eb-8795-4684-c685-44be3d63f385",
        "colab": {
          "base_uri": "https://localhost:8080/",
          "height": 34
        }
      },
      "source": [
        "# 2.3.Quantas vezes o número 51 foi sorteado?\n",
        "print('O número 51 foi sorteado %d vezes.' % d_lottery[51])"
      ],
      "execution_count": null,
      "outputs": [
        {
          "output_type": "stream",
          "text": [
            "O número 51 foi sorteado 239 vezes.\n"
          ],
          "name": "stdout"
        }
      ]
    },
    {
      "cell_type": "code",
      "metadata": {
        "id": "_I-NSRn6DqLZ"
      },
      "source": [
        "# Necessário para as questões restantes\n",
        "list_values = list(d_lottery.values())\n",
        "list_keys = list(d_lottery.keys())\n"
      ],
      "execution_count": null,
      "outputs": []
    },
    {
      "cell_type": "code",
      "metadata": {
        "id": "9sR455qiDve2",
        "outputId": "5fae64f2-b748-4b74-9279-df5312ebbd3b",
        "colab": {
          "base_uri": "https://localhost:8080/",
          "height": 34
        }
      },
      "source": [
        "# 2.4. Quantas vezes números no intervalo [1,10] foram sorteados?\n",
        "# print('Os números no intervalo [1, 10] foram sorteados %d vezes.' % sum({k: d_lottery[k] for k in range(1,11)}.values()))\n",
        "print('Os números no intervalo [1, 10] foram sorteados %d vezes.' % sum(list_values[0:10]))"
      ],
      "execution_count": null,
      "outputs": [
        {
          "output_type": "stream",
          "text": [
            "Os números no intervalo [1, 10] foram sorteados 2338 vezes.\n"
          ],
          "name": "stdout"
        }
      ]
    },
    {
      "cell_type": "code",
      "metadata": {
        "id": "HqELxFdIDy92",
        "outputId": "2a76e972-1579-422c-d46b-ada693d76d13",
        "colab": {
          "base_uri": "https://localhost:8080/",
          "height": 34
        }
      },
      "source": [
        "# 2.5. Qual a dezena mais sorteada?\n",
        "max_value = max(list_values)\n",
        "print('A dezena mais sorteada foi o número %d.' % (list_keys[list_values.index(max_value)]))"
      ],
      "execution_count": null,
      "outputs": [
        {
          "output_type": "stream",
          "text": [
            "A dezena mais sorteada foi o número 10.\n"
          ],
          "name": "stdout"
        }
      ]
    },
    {
      "cell_type": "code",
      "metadata": {
        "id": "D6y7deDWD3n6",
        "outputId": "db50d34e-4138-435f-9260-40674bbcba5c",
        "colab": {
          "base_uri": "https://localhost:8080/",
          "height": 34
        }
      },
      "source": [
        "# 2.6. Qual a dezena menos sorteada?\n",
        "min_value = min(list_values)\n",
        "print('A dezena menos sorteada foi o número %d.' % (list_keys[list_values.index(min_value)]))"
      ],
      "execution_count": null,
      "outputs": [
        {
          "output_type": "stream",
          "text": [
            "A dezena menos sorteada foi o número 26.\n"
          ],
          "name": "stdout"
        }
      ]
    },
    {
      "cell_type": "markdown",
      "metadata": {
        "id": "q-WE33XlSmfg"
      },
      "source": [
        "### Passo 3 - Um pouco de Matemática!\n",
        "\n",
        "1. Usando Python, calcule a probabilidade de alguém acertar a mega-sena\n",
        "2. Qual a sena mais provável? Tome como base as seis dezenas mais frequentes nos sorteios anteriores\n",
        "3. Qual a dezena média?  \n",
        "   3.1 O resultado é compatível com a Lei dos Grandes Números?"
      ]
    },
    {
      "cell_type": "code",
      "metadata": {
        "id": "GBqTPM3cSmfh",
        "outputId": "71219e75-4aa4-4b8b-cc70-9c9427053a88",
        "colab": {
          "base_uri": "https://localhost:8080/",
          "height": 34
        }
      },
      "source": [
        "# 3.1 Usando Python, calcule a probabilidade de alguém acertar a mega-sena\n",
        "# Combinação \n",
        "prob = math.factorial(60)/(math.factorial(6)*math.factorial(54))\n",
        "print(\"A probabilidade de alguém acertar a mega-sena é de 1 em %d\" % prob)"
      ],
      "execution_count": null,
      "outputs": [
        {
          "output_type": "stream",
          "text": [
            "A probabilidade de alguém acertar a mega-sena é de 1 em 50063860\n"
          ],
          "name": "stdout"
        }
      ]
    },
    {
      "cell_type": "code",
      "metadata": {
        "id": "yhBf1WYgSmfn",
        "outputId": "2aae9c30-e7ce-47b8-c787-fdd33f687ac2",
        "colab": {
          "base_uri": "https://localhost:8080/",
          "height": 34
        }
      },
      "source": [
        "# 3.2 Qual a sena mais provável? Tome como base as seis dezenas mais frequentes nos sorteios anteriores\n",
        "new_list = list_values.copy()\n",
        "new_list.sort(reverse=True)\n",
        "sena = [list_keys[list_values.index(i)] for i in new_list[0:5]]\n",
        "print(\"A sena mais provável, baseando-se nas dezenas mais frequentes, é: \", sena)"
      ],
      "execution_count": null,
      "outputs": [
        {
          "output_type": "stream",
          "text": [
            "A sena mais provável, baseando-se nas dezenas mais frequentes, é:  [10, 53, 5, 23, 4]\n"
          ],
          "name": "stdout"
        }
      ]
    },
    {
      "cell_type": "code",
      "metadata": {
        "id": "EFyWqiuBSmfr",
        "outputId": "07727384-e209-4254-b9c0-89855451031f",
        "colab": {
          "base_uri": "https://localhost:8080/",
          "height": 50
        }
      },
      "source": [
        "# 3.3 Qual a dezena média?\n",
        "print(list_keys[29])\n",
        "dezena_media = sum(list_keys)/len(list_keys)\n",
        "print('A dezena média é %d.' % (dezena_media))"
      ],
      "execution_count": null,
      "outputs": [
        {
          "output_type": "stream",
          "text": [
            "30\n",
            "A dezena média é 30.\n"
          ],
          "name": "stdout"
        }
      ]
    },
    {
      "cell_type": "markdown",
      "metadata": {
        "id": "DX9eZXRNSmfw"
      },
      "source": [
        "### Passo 4 - Brincando com a curiosidade\n",
        "\n",
        "1. Já houve algum sorteio exatamente igual a outro? Isto é, com as mesmas dezenas na mesma ordem?\n",
        "2. Já houve dois sorteios iguais no tocante às dezenas sorteadas?"
      ]
    },
    {
      "cell_type": "code",
      "metadata": {
        "id": "j-ldHHzQSmfx",
        "outputId": "07522782-e157-4b72-ff70-145b295bc41a",
        "colab": {
          "base_uri": "https://localhost:8080/",
          "height": 34
        }
      },
      "source": [
        "# 4.1. Já houve algum sorteio exatamente igual a outro? Isto é, com as mesmas dezenas na mesma ordem?\n",
        "unq, unq_idx, counts = np.unique(lottery_list, axis=0, return_index=True, return_counts=True)\n",
        "qtde_iguais = len(unq_idx[counts > 1])\n",
        "print('Houve %d sorteios exatamente iguais (mesma ordem).' % (qtde_iguais))"
      ],
      "execution_count": 25,
      "outputs": [
        {
          "output_type": "stream",
          "text": [
            "Houve 0 sorteios exatamente iguais.\n"
          ],
          "name": "stdout"
        }
      ]
    },
    {
      "cell_type": "code",
      "metadata": {
        "id": "uAAf0mfocUXw",
        "outputId": "004ff7a3-55fe-40b4-ce86-1961c868dc51",
        "colab": {
          "base_uri": "https://localhost:8080/",
          "height": 34
        }
      },
      "source": [
        "# 4.2. Já houve dois sorteios iguais no tocante às dezenas sorteadas?\n",
        "lottery_cp = lottery_list.copy()\n",
        "lottery_cp = np.sort(lottery_cp, axis=1)\n",
        "lottery_cp = np.sort(lottery_cp, axis=0)\n",
        "# lottery_cp\n",
        "\n",
        "unq, unq_idx, counts = np.unique(lottery_cp, axis=0, return_index=True, return_counts=True)\n",
        "qtde_iguais = len(unq_idx[counts > 1])\n",
        "print('Houve %d sorteios iguais (mesmos números, independente da ordem).' % (qtde_iguais))"
      ],
      "execution_count": 151,
      "outputs": [
        {
          "output_type": "stream",
          "text": [
            "Houve 198 sorteios iguais.\n"
          ],
          "name": "stdout"
        }
      ]
    },
    {
      "cell_type": "code",
      "metadata": {
        "id": "DgjnXomnycRJ",
        "outputId": "f74a563a-5008-4ea5-bed0-c85cf6364ea8",
        "colab": {
          "base_uri": "https://localhost:8080/",
          "height": 34
        }
      },
      "source": [
        "a = [[0, 1, 2], [2, 0, 1], [2, 3, 4], [0, 1, 2]]\n",
        "reduce(np.array_equal, a)"
      ],
      "execution_count": 24,
      "outputs": [
        {
          "output_type": "execute_result",
          "data": {
            "text/plain": [
              "False"
            ]
          },
          "metadata": {
            "tags": []
          },
          "execution_count": 24
        }
      ]
    },
    {
      "cell_type": "markdown",
      "metadata": {
        "id": "g8m7Ey0OSmf-"
      },
      "source": [
        "### Passo 5 - Plotando um gráfico!\n",
        "\n",
        "1. Construa um gráfico do tipo histograma que ilustre o número de vezes que cada dezena foi\n",
        "sorteada"
      ]
    },
    {
      "cell_type": "code",
      "metadata": {
        "id": "yWlnpv8eSmf_",
        "outputId": "c1edec3b-b0bc-431e-af6f-dadf7f61bb9b",
        "colab": {
          "base_uri": "https://localhost:8080/",
          "height": 621
        }
      },
      "source": [
        "numbers = [item for sub_list in lottery_list for item in sub_list]\n",
        "plt.figure(figsize=(15, 10))\n",
        "plt.title('Frequência de dezenas dos sorteios')\n",
        "plt.hist(x=numbers, bins=[i for i in range(0, 62)], rwidth=0.8)\n",
        "plt.xlabel('Dezenas')\n",
        "plt.ylabel('Frequência')\n",
        "# plt.grid(True)\n",
        "plt.show()\n",
        "\n",
        "#fig, ax = plt.subplots(tight_layout=True)\n",
        "#hist = ax.hist2d(list_keys, list_values)"
      ],
      "execution_count": null,
      "outputs": [
        {
          "output_type": "display_data",
          "data": {
            "image/png": "[encoded data removed]",
            "text/plain": [
              "<Figure size 1080x720 with 1 Axes>"
            ]
          },
          "metadata": {
            "tags": [],
            "needs_background": "light"
          }
        }
      ]
    }
  ]
}